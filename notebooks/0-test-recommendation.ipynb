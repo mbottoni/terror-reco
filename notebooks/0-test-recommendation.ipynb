{
 "cells": [
  {
   "cell_type": "code",
   "execution_count": 8,
   "id": "e5091590",
   "metadata": {},
   "outputs": [],
   "source": [
    "import numpy as np"
   ]
  },
  {
   "cell_type": "code",
   "execution_count": 9,
   "id": "af55f48f",
   "metadata": {},
   "outputs": [
    {
     "name": "stdout",
     "output_type": "stream",
     "text": [
      "OMDB_API_KEY set: present\n"
     ]
    }
   ],
   "source": [
    "# Setup: project path and OMDb API key\n",
    "import os\n",
    "import sys\n",
    "from pathlib import Path\n",
    "import numpy as np\n",
    "\n",
    "# Ensure project root is on sys.path so `import app` works when running from notebooks/\n",
    "PROJECT_ROOT = Path.cwd().resolve().parent\n",
    "if str(PROJECT_ROOT) not in sys.path:\n",
    "    sys.path.insert(0, str(PROJECT_ROOT))\n",
    "\n",
    "# Configure OMDb API key for experiments.\n",
    "# Prefer setting OMDB_API_KEY in your environment or `.env` file.\n",
    "# For quick experiments, you can set it here (replace the placeholder):\n",
    "OMDB_API_KEY = os.environ.get(\"OMDB_API_KEY\") or \"YOUR_OMDB_API_KEY_HERE\"\n",
    "os.environ[\"OMDB_API_KEY\"] = OMDB_API_KEY\n",
    "print(\"OMDB_API_KEY set:\", \"present\" if bool(os.environ.get(\"OMDB_API_KEY\")) and os.environ.get(\"OMDB_API_KEY\") != \"YOUR_OMDB_API_KEY_HERE\" else \"missing\")"
   ]
  },
  {
   "cell_type": "code",
   "execution_count": 10,
   "id": "46784476",
   "metadata": {},
   "outputs": [],
   "source": [
    "# Imports, async runner, and loading the recommender\n",
    "import asyncio\n",
    "from typing import Any\n",
    "\n",
    "from app.services.recommender import recommend_movies\n",
    "\n",
    "\n",
    "def run(coro):\n",
    "    \"\"\"Run an async coroutine from a notebook cell, returning its result.\"\"\"\n",
    "    try:\n",
    "        loop = asyncio.get_event_loop()\n",
    "    except RuntimeError:\n",
    "        loop = None\n",
    "    if loop and loop.is_running():\n",
    "        # If already in an event loop (e.g., IPython), create a new task\n",
    "        return asyncio.ensure_future(coro)\n",
    "    return asyncio.run(coro)\n",
    "\n",
    "\n",
    "def show_results(items: list[dict[str, Any]]):\n",
    "    if not items:\n",
    "        print(\"No results.\")\n",
    "        return\n",
    "    for i, m in enumerate(items, 1):\n",
    "        print(f\"{i}. {m.get('title')}  |  Rating: {m.get('vote_average')}  |  Released: {m.get('release_date')}\")\n",
    "        if m.get(\"overview\"):\n",
    "            print(f\"   {m['overview'][:200]}{'...' if len(m['overview'])>200 else ''}\")\n",
    "        if m.get(\"poster_url\"):\n",
    "            print(f\"   Poster: {m['poster_url']}\")\n",
    "        print()\n"
   ]
  },
  {
   "cell_type": "code",
   "execution_count": 11,
   "id": "d701ecf1",
   "metadata": {},
   "outputs": [
    {
     "name": "stdout",
     "output_type": "stream",
     "text": [
      "1. Little Horror Movie  |  Rating: 4.1  |  Released: 28 Jun 2019\n",
      "   Three You tubers struggling to get more views on their adventure channel, travel to the mythical city of Casablanca, unaware that it hides a terrifying secret.\n",
      "   Poster: https://m.media-amazon.com/images/M/MV5BYmM4NzAwN2EtZTRhNy00ZGYyLTljNzEtZGY0OWM0N2FhYWEyXkEyXkFqcGc@._V1_SX300.jpg\n",
      "\n",
      "2. The Amityville Horror  |  Rating: 6.2  |  Released: 27 Jul 1979\n",
      "   Newlyweds and their children battle a demonic presence in their home.\n",
      "   Poster: https://m.media-amazon.com/images/M/MV5BNWRmOTdhMWEtYmExOC00Y2E5LTkwYjEtYTAwY2Q0MTU0MTBlXkEyXkFqcGc@._V1_SX300.jpg\n",
      "\n",
      "3. The Rocky Horror Picture Show  |  Rating: 7.4  |  Released: 29 Sep 1975\n",
      "   A newly-engaged couple have a breakdown in an isolated area and must seek shelter at the bizarre residence of Dr. Frank-n-Furter.\n",
      "   Poster: https://m.media-amazon.com/images/M/MV5BOTg2YzY5ZGYtNDk1My00N2Q2LWFhN2YtZWU5YTkzODIyZGRmXkEyXkFqcGc@._V1_SX300.jpg\n",
      "\n",
      "4. Horror in the High Desert  |  Rating: 5.4  |  Released: 27 Mar 2021\n",
      "   In July 2017, an outdoor enthusiast went missing in northern Nevada. He was never located. Friends and loved ones recall the events and, for the first time, talk about the horrific conclusion to his f...\n",
      "   Poster: https://m.media-amazon.com/images/M/MV5BZGIxYTE2MjgtZTAwZC00OTllLThkYTEtMDAwYzE5Njk3NDAyXkEyXkFqcGc@._V1_SX300.jpg\n",
      "\n",
      "5. The Vault of Horror  |  Rating: 6.5  |  Released: 30 Mar 1973\n",
      "   An anthology of five horror stories shared by five men trapped in the basement of an office building.\n",
      "   Poster: https://m.media-amazon.com/images/M/MV5BODQzOGQzYmMtZTU4Ny00MjcwLWEyOTctNGQ0OWQxYTQ4ZjIwXkEyXkFqcGc@._V1_SX300.jpg\n",
      "\n",
      "6. Return to Horror High  |  Rating: 4.3  |  Released: 20 Feb 1987\n",
      "   In the early 1980s, a series of gruesome murders occurred at Crippen High School. A few years later, a film crew uses the now-abandoned Crippen High as the set for a film. But an uninvited guest makes...\n",
      "   Poster: https://m.media-amazon.com/images/M/MV5BYjM0ZjJjNDctM2IwMC00MzNkLWFlMWQtMGMzNmI1N2JmOTg0XkEyXkFqcGc@._V1_SX300.jpg\n",
      "\n"
     ]
    }
   ],
   "source": [
    "# Example 1: Keyword strategy (default)\n",
    "MOOD = \"gory fun\"\n",
    "LIMIT = 6\n",
    "\n",
    "movies = run(recommend_movies(mood=MOOD, limit=LIMIT, strategy=\"keyword\"))\n",
    "\n",
    "# If we're in a running loop (Jupyter), `run` may return a Task. Await it to get results.\n",
    "try:\n",
    "    from asyncio import Future\n",
    "    if hasattr(movies, \"__await__\") or isinstance(movies, Future):\n",
    "        movies = await movies\n",
    "except Exception:\n",
    "    pass\n",
    "\n",
    "show_results(movies)\n"
   ]
  },
  {
   "cell_type": "code",
   "execution_count": 12,
   "id": "2cdfb4e0",
   "metadata": {},
   "outputs": [
    {
     "name": "stdout",
     "output_type": "stream",
     "text": [
      "1. A Classic Horror Story  |  Rating: 5.7  |  Released: 14 Jul 2021\n",
      "   In this gruesome suspense film, strangers traveling in southern Italy become stranded in the woods, where they must fight desperately to get out alive.\n",
      "   Poster: https://m.media-amazon.com/images/M/MV5BYTg5ZDgxNDAtMzFkNS00M2UwLWI4N2EtOTczYjM0MjYwZDRjXkEyXkFqcGc@._V1_SX300.jpg\n",
      "\n",
      "2. The Rocky Horror Picture Show: Let's Do the Time Warp Again  |  Rating: 4.2  |  Released: 20 Oct 2016\n",
      "   A straitlaced, square couple, seeking shelter from a storm, find themselves in the castle of a transgender alien mad scientist intent on creating a buff bodybuilder.\n",
      "   Poster: https://m.media-amazon.com/images/M/MV5BN2FjZDExZDgtZTE2NS00MTU0LWEzNTAtMGZiZDZjYmE0NjYyXkEyXkFqcGc@._V1_SX300.jpg\n",
      "\n",
      "3. #Horror  |  Rating: 3.1  |  Released: 20 Nov 2015\n",
      "   Six preadolescent girls face a night of terror when the compulsive addiction of an online social media game turns a moment of cyber bullying into a night of insanity.\n",
      "   Poster: https://m.media-amazon.com/images/M/MV5BMjM5ODg2NjU2Nl5BMl5BanBnXkFtZTgwMTY0NTIwMDI@._V1_SX300.jpg\n",
      "\n",
      "4. The Amityville Horror  |  Rating: 6.2  |  Released: 27 Jul 1979\n",
      "   Newlyweds and their children battle a demonic presence in their home.\n",
      "   Poster: https://m.media-amazon.com/images/M/MV5BNWRmOTdhMWEtYmExOC00Y2E5LTkwYjEtYTAwY2Q0MTU0MTBlXkEyXkFqcGc@._V1_SX300.jpg\n",
      "\n",
      "5. Amityville Horror: The Evil Escapes  |  Rating: 4.4  |  Released: 12 May 1989\n",
      "   The demonic forces in the Amityville house transfer to an ancient lamp, which finds its way to a remote California mansion where the evil manipulates a little girl by manifesting itself in the form of...\n",
      "   Poster: https://m.media-amazon.com/images/M/MV5BOWNkNGE1NzMtMThhZS00OWY5LWJjMDMtNzcyNjRkMTQ4MDBlXkEyXkFqcGc@._V1_SX300.jpg\n",
      "\n",
      "6. The Last Horror Movie  |  Rating: 5.5  |  Released: 13 May 2005\n",
      "   A serial killer uses a horror video rental to lure his next victim. What begins as a teen slasher transforms into a disturbing journey through the mind of Max Parry, a mild mannered wedding photograph...\n",
      "   Poster: https://m.media-amazon.com/images/M/MV5BOTI3NDcxNDM0Nl5BMl5BanBnXkFtZTgwNTA1NzAwMTE@._V1_SX300.jpg\n",
      "\n"
     ]
    }
   ],
   "source": [
    "# Example 2: Embedding/TF-IDF strategy\n",
    "MOOD = \"claustrophobic psychological\"\n",
    "LIMIT = 6\n",
    "\n",
    "movies = run(recommend_movies(mood=MOOD, limit=LIMIT, strategy=\"embedding\"))\n",
    "\n",
    "try:\n",
    "    from asyncio import Future\n",
    "    if hasattr(movies, \"__await__\") or isinstance(movies, Future):\n",
    "        movies = await movies\n",
    "except Exception:\n",
    "    pass\n",
    "\n",
    "show_results(movies)\n"
   ]
  },
  {
   "cell_type": "code",
   "execution_count": null,
   "id": "7797fd2d",
   "metadata": {},
   "outputs": [],
   "source": []
  },
  {
   "cell_type": "code",
   "execution_count": null,
   "id": "780ecee6",
   "metadata": {},
   "outputs": [],
   "source": []
  },
  {
   "cell_type": "code",
   "execution_count": null,
   "id": "0cfbfe5b",
   "metadata": {},
   "outputs": [],
   "source": []
  },
  {
   "cell_type": "code",
   "execution_count": 7,
   "id": "111130f9",
   "metadata": {},
   "outputs": [
    {
     "data": {
      "text/plain": [
       "25"
      ]
     },
     "execution_count": 7,
     "metadata": {},
     "output_type": "execute_result"
    }
   ],
   "source": [
    "import gc\n",
    "del OMDB_API_KEY\n",
    "gc.collect()\n"
   ]
  },
  {
   "cell_type": "code",
   "execution_count": null,
   "id": "d0c90f1e",
   "metadata": {},
   "outputs": [],
   "source": []
  },
  {
   "cell_type": "code",
   "execution_count": null,
   "id": "cd0df007",
   "metadata": {},
   "outputs": [],
   "source": []
  },
  {
   "cell_type": "code",
   "execution_count": null,
   "id": "98d9278d",
   "metadata": {},
   "outputs": [],
   "source": []
  },
  {
   "cell_type": "code",
   "execution_count": null,
   "id": "21b5343f",
   "metadata": {},
   "outputs": [],
   "source": []
  }
 ],
 "metadata": {
  "kernelspec": {
   "display_name": ".venv",
   "language": "python",
   "name": "python3"
  },
  "language_info": {
   "codemirror_mode": {
    "name": "ipython",
    "version": 3
   },
   "file_extension": ".py",
   "mimetype": "text/x-python",
   "name": "python",
   "nbconvert_exporter": "python",
   "pygments_lexer": "ipython3",
   "version": "3.11.4"
  }
 },
 "nbformat": 4,
 "nbformat_minor": 5
}
